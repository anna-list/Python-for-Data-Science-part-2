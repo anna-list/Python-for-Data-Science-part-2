{
 "cells": [
  {
   "cell_type": "code",
   "execution_count": 1,
   "metadata": {},
   "outputs": [],
   "source": [
    "#heres a tuple \n",
    "my_tuple = ('how','you','doin','?')"
   ]
  },
  {
   "cell_type": "code",
   "execution_count": 2,
   "metadata": {},
   "outputs": [],
   "source": [
    "#convert this tuple to list my_list\n",
    "my_list = list(my_tuple)"
   ]
  },
  {
   "cell_type": "code",
   "execution_count": 3,
   "metadata": {
    "scrolled": true
   },
   "outputs": [
    {
     "data": {
      "text/plain": [
       "list"
      ]
     },
     "execution_count": 3,
     "metadata": {},
     "output_type": "execute_result"
    }
   ],
   "source": [
    "#check if it is really in list format by printing type of my_list\n",
    "type(my_list)"
   ]
  },
  {
   "cell_type": "code",
   "execution_count": 4,
   "metadata": {},
   "outputs": [],
   "source": [
    "#consider  a long list as shown below\n",
    "long_list = [1,2,3,4,4,4,5,5,5,4,5,3,2,3,4,5,5,6,6,4,3,3,5,6,4,6,7,5,4,6,6,2]"
   ]
  },
  {
   "cell_type": "code",
   "execution_count": 5,
   "metadata": {},
   "outputs": [],
   "source": [
    "#add an element 999 at the end of the list\n",
    "#alternative one\n",
    "long_list.append(999)\n"
   ]
  },
  {
   "cell_type": "code",
   "execution_count": 6,
   "metadata": {},
   "outputs": [],
   "source": [
    "#alternative two\n",
    "long_list.insert((len(long_list)),999)"
   ]
  },
  {
   "cell_type": "code",
   "execution_count": 7,
   "metadata": {},
   "outputs": [],
   "source": [
    "#insert an element 1007 at exactly position 13th\n",
    "long_list.insert(13,1007)"
   ]
  },
  {
   "cell_type": "code",
   "execution_count": 8,
   "metadata": {
    "scrolled": true
   },
   "outputs": [
    {
     "data": {
      "text/plain": [
       "4"
      ]
     },
     "execution_count": 8,
     "metadata": {},
     "output_type": "execute_result"
    }
   ],
   "source": [
    "#remove the element at 15th position(starting at 0)\n",
    "long_list.pop(15)"
   ]
  },
  {
   "cell_type": "code",
   "execution_count": 9,
   "metadata": {},
   "outputs": [],
   "source": [
    "#remove thefirst occurence of  element 4\n",
    "long_list.remove(4)"
   ]
  },
  {
   "cell_type": "markdown",
   "metadata": {},
   "source": [
    "###  SLICING problems start here."
   ]
  },
  {
   "cell_type": "code",
   "execution_count": 10,
   "metadata": {},
   "outputs": [],
   "source": [
    "slicer = ['So', 'do', 'all', 'who', 'live', 'to', 'see', 'such', 'times.',\n",
    "         'But','that', 'is','not', 'for', 'them', 'to', 'decide.',\n",
    "         'All', 'we', 'have', 'to', 'decide' ,'is' ,'what','to', 'do', 'with',\n",
    "         'the', 'time','that', 'is', 'given', 'us.']"
   ]
  },
  {
   "cell_type": "code",
   "execution_count": 11,
   "metadata": {},
   "outputs": [
    {
     "data": {
      "text/plain": [
       "['us.',\n",
       " 'given',\n",
       " 'is',\n",
       " 'that',\n",
       " 'time',\n",
       " 'the',\n",
       " 'with',\n",
       " 'do',\n",
       " 'to',\n",
       " 'what',\n",
       " 'is',\n",
       " 'decide',\n",
       " 'to',\n",
       " 'have',\n",
       " 'we',\n",
       " 'All',\n",
       " 'decide.',\n",
       " 'to',\n",
       " 'them',\n",
       " 'for',\n",
       " 'not',\n",
       " 'is',\n",
       " 'that',\n",
       " 'But',\n",
       " 'times.',\n",
       " 'such',\n",
       " 'see',\n",
       " 'to',\n",
       " 'live',\n",
       " 'who',\n",
       " 'all',\n",
       " 'do',\n",
       " 'So']"
      ]
     },
     "execution_count": 11,
     "metadata": {},
     "output_type": "execute_result"
    }
   ],
   "source": [
    "#my all time favorite\n",
    "#reverse the entire list\n",
    "slicer[::-1]"
   ]
  },
  {
   "cell_type": "code",
   "execution_count": 12,
   "metadata": {},
   "outputs": [
    {
     "data": {
      "text/plain": [
       "['But',\n",
       " 'that',\n",
       " 'is',\n",
       " 'not',\n",
       " 'for',\n",
       " 'them',\n",
       " 'to',\n",
       " 'decide.',\n",
       " 'All',\n",
       " 'we',\n",
       " 'have',\n",
       " 'to',\n",
       " 'decide',\n",
       " 'is',\n",
       " 'what',\n",
       " 'to',\n",
       " 'do',\n",
       " 'with',\n",
       " 'the',\n",
       " 'time',\n",
       " 'that',\n",
       " 'is',\n",
       " 'given',\n",
       " 'us.']"
      ]
     },
     "execution_count": 12,
     "metadata": {},
     "output_type": "execute_result"
    }
   ],
   "source": [
    "#print all the words starting from 'but that is not for them...' till the end\n",
    "slicer[9:]\n",
    "#OR\n",
    "slicer[-24:]"
   ]
  },
  {
   "cell_type": "code",
   "execution_count": 13,
   "metadata": {},
   "outputs": [
    {
     "data": {
      "text/plain": [
       "['But', 'that', 'is', 'not', 'for', 'them', 'to', 'decide.']"
      ]
     },
     "execution_count": 13,
     "metadata": {},
     "output_type": "execute_result"
    }
   ],
   "source": [
    "#print exactly this sentence 'But that is not for them to decide.'\n",
    "slicer[8:17]\n",
    "#or\n",
    "slicer[-24:-16]"
   ]
  },
  {
   "cell_type": "code",
   "execution_count": 14,
   "metadata": {},
   "outputs": [
    {
     "data": {
      "text/plain": [
       "['us.', 'that', 'with', 'what', 'to', 'All', 'them', 'is']"
      ]
     },
     "execution_count": 14,
     "metadata": {},
     "output_type": "execute_result"
    }
   ],
   "source": [
    "#One last \n",
    "#reverse the list and print every third element upto the word 'times'\n",
    "slicer[:8:-3]"
   ]
  }
 ],
 "metadata": {
  "kernelspec": {
   "display_name": "Python 3",
   "language": "python",
   "name": "python3"
  },
  "language_info": {
   "codemirror_mode": {
    "name": "ipython",
    "version": 3
   },
   "file_extension": ".py",
   "mimetype": "text/x-python",
   "name": "python",
   "nbconvert_exporter": "python",
   "pygments_lexer": "ipython3",
   "version": "3.6.5"
  }
 },
 "nbformat": 4,
 "nbformat_minor": 2
}
