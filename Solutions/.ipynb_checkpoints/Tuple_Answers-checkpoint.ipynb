{
 "cells": [
  {
   "cell_type": "code",
   "execution_count": 6,
   "metadata": {},
   "outputs": [],
   "source": [
    "#Declare a tuple fruits of  fruits\n",
    "fruits = ('Guava','Pear','Apple','Watermelon','Kiwi')"
   ]
  },
  {
   "cell_type": "code",
   "execution_count": 7,
   "metadata": {},
   "outputs": [
    {
     "data": {
      "text/plain": [
       "'Kiwi'"
      ]
     },
     "execution_count": 7,
     "metadata": {},
     "output_type": "execute_result"
    }
   ],
   "source": [
    "#print the last fruit name\n",
    "fruits[4]"
   ]
  },
  {
   "cell_type": "code",
   "execution_count": 10,
   "metadata": {},
   "outputs": [],
   "source": [
    "#Declare a nested tuple called nested, of green leafy veggies and other veggies\n",
    "#Each should have atleast 4 elements\n",
    "nested = (('Spinach','Fenugreek','Cabbage','Spring Onion'),\n",
    "           ('Lady Finger','Potato','Tomato','Capsicum'))"
   ]
  },
  {
   "cell_type": "code",
   "execution_count": 12,
   "metadata": {},
   "outputs": [
    {
     "data": {
      "text/plain": [
       "'Cabbage'"
      ]
     },
     "execution_count": 12,
     "metadata": {},
     "output_type": "execute_result"
    }
   ],
   "source": [
    "#access the third element of first tuple in nested\n",
    "nested[0][2]"
   ]
  },
  {
   "cell_type": "code",
   "execution_count": 14,
   "metadata": {},
   "outputs": [
    {
     "data": {
      "text/plain": [
       "'Lady Finger'"
      ]
     },
     "execution_count": 14,
     "metadata": {},
     "output_type": "execute_result"
    }
   ],
   "source": [
    "#access the first element of second tuple in nested\n",
    "nested[1][0]"
   ]
  },
  {
   "cell_type": "code",
   "execution_count": 20,
   "metadata": {},
   "outputs": [],
   "source": [
    "string = ('Frankly my dear, I dont give a damn!')"
   ]
  },
  {
   "cell_type": "code",
   "execution_count": 22,
   "metadata": {
    "scrolled": false
   },
   "outputs": [
    {
     "name": "stdout",
     "output_type": "stream",
     "text": [
      "('F', 'r', 'a', 'n', 'k', 'l', 'y', ' ', 'm', 'y', ' ', 'd', 'e', 'a', 'r', ',', ' ', 'I', ' ', 'd', 'o', 'n', 't', ' ', 'g', 'i', 'v', 'e', ' ', 'a', ' ', 'd', 'a', 'm', 'n', '!')\n"
     ]
    }
   ],
   "source": [
    "#convert the above string to a tuple  called tup\n",
    "tup = tuple(string)\n",
    "print(tup)"
   ]
  },
  {
   "cell_type": "code",
   "execution_count": 23,
   "metadata": {},
   "outputs": [],
   "source": [
    "tup = tuple(['Hello','Gracias',[7,8,9,10],True])"
   ]
  },
  {
   "cell_type": "code",
   "execution_count": 24,
   "metadata": {},
   "outputs": [
    {
     "data": {
      "text/plain": [
       "('Hello', 'Gracias', [7, 8, 9, 10], True)"
      ]
     },
     "execution_count": 24,
     "metadata": {},
     "output_type": "execute_result"
    }
   ],
   "source": [
    "#change 'True' to 'Hi'\n"
   ]
  },
  {
   "cell_type": "markdown",
   "metadata": {},
   "source": [
    "If you got an error, Gotcha! Tuple is immutable remember?! :D\n",
    "If you didn't, Voila!"
   ]
  },
  {
   "cell_type": "code",
   "execution_count": 25,
   "metadata": {},
   "outputs": [],
   "source": [
    "#go ahead and add the number 15 to list element inside tup\n",
    "tup[2].append(15)"
   ]
  },
  {
   "cell_type": "markdown",
   "metadata": {},
   "source": [
    "Can you empty a tuple using multiplication?\n",
    "Go ahead and empty tuple tup"
   ]
  },
  {
   "cell_type": "code",
   "execution_count": 29,
   "metadata": {},
   "outputs": [],
   "source": [
    "tup = tup * 0"
   ]
  },
  {
   "cell_type": "code",
   "execution_count": 30,
   "metadata": {
    "scrolled": false
   },
   "outputs": [
    {
     "data": {
      "text/plain": [
       "()"
      ]
     },
     "execution_count": 30,
     "metadata": {},
     "output_type": "execute_result"
    }
   ],
   "source": [
    "print(tup)"
   ]
  },
  {
   "cell_type": "code",
   "execution_count": 35,
   "metadata": {},
   "outputs": [],
   "source": [
    "string ='Swiss chard has dark-green leaves with a thick stalk that is red, white, yellow or green. It’s often used in Mediterranean cooking and belongs to the same family as beets and spinach.'"
   ]
  },
  {
   "cell_type": "code",
   "execution_count": 36,
   "metadata": {},
   "outputs": [],
   "source": [
    "long_tuple = tuple(string)"
   ]
  },
  {
   "cell_type": "code",
   "execution_count": 37,
   "metadata": {
    "collapsed": true
   },
   "outputs": [
    {
     "name": "stdout",
     "output_type": "stream",
     "text": [
      "('S', 'w', 'i', 's', 's', ' ', 'c', 'h', 'a', 'r', 'd', ' ', 'h', 'a', 's', ' ', 'd', 'a', 'r', 'k', '-', 'g', 'r', 'e', 'e', 'n', ' ', 'l', 'e', 'a', 'v', 'e', 's', ' ', 'w', 'i', 't', 'h', ' ', 'a', ' ', 't', 'h', 'i', 'c', 'k', ' ', 's', 't', 'a', 'l', 'k', ' ', 't', 'h', 'a', 't', ' ', 'i', 's', ' ', 'r', 'e', 'd', ',', ' ', 'w', 'h', 'i', 't', 'e', ',', ' ', 'y', 'e', 'l', 'l', 'o', 'w', ' ', 'o', 'r', ' ', 'g', 'r', 'e', 'e', 'n', '.', ' ', 'I', 't', '’', 's', ' ', 'o', 'f', 't', 'e', 'n', ' ', 'u', 's', 'e', 'd', ' ', 'i', 'n', ' ', 'M', 'e', 'd', 'i', 't', 'e', 'r', 'r', 'a', 'n', 'e', 'a', 'n', ' ', 'c', 'o', 'o', 'k', 'i', 'n', 'g', ' ', 'a', 'n', 'd', ' ', 'b', 'e', 'l', 'o', 'n', 'g', 's', ' ', 't', 'o', ' ', 't', 'h', 'e', ' ', 's', 'a', 'm', 'e', ' ', 'f', 'a', 'm', 'i', 'l', 'y', ' ', 'a', 's', ' ', 'b', 'e', 'e', 't', 's', ' ', 'a', 'n', 'd', ' ', 's', 'p', 'i', 'n', 'a', 'c', 'h', '.')\n"
     ]
    }
   ],
   "source": [
    "print(long_tuple)\n",
    "#That's one helluwa long tuple, ain't it?!"
   ]
  },
  {
   "cell_type": "code",
   "execution_count": 38,
   "metadata": {},
   "outputs": [
    {
     "name": "stdout",
     "output_type": "stream",
     "text": [
      "n a c h .\n"
     ]
    }
   ],
   "source": [
    "#now comes the challenging part, without using index operator \n",
    "#or counting how many elements are there in the tuple\n",
    "#print the last 5 data points\n",
    "*rest,a,b,c,d,e = long_tuple\n",
    "print(a,b,c,d,e)"
   ]
  }
 ],
 "metadata": {
  "kernelspec": {
   "display_name": "Python 3",
   "language": "python",
   "name": "python3"
  },
  "language_info": {
   "codemirror_mode": {
    "name": "ipython",
    "version": 3
   },
   "file_extension": ".py",
   "mimetype": "text/x-python",
   "name": "python",
   "nbconvert_exporter": "python",
   "pygments_lexer": "ipython3",
   "version": "3.6.5"
  }
 },
 "nbformat": 4,
 "nbformat_minor": 2
}
